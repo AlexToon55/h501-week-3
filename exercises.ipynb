{
 "cells": [
  {
   "cell_type": "markdown",
   "id": "0dead82f",
   "metadata": {},
   "source": [
    "<font color='darkred'> Unless otherwise noted, **this notebook will not be reviewed or autograded.**</font> You are welcome to use it for scratchwork, but **only the files listed in the exercises will be checked.**\n",
    "\n",
    "---\n",
    "\n",
    "# Exercises\n",
    "\n",
    "For these exercises, add your functions to the *apputil\\.py* file. If you like, you're welcome to adjust the *app\\.py* file, but it is not required."
   ]
  },
  {
   "cell_type": "markdown",
   "id": "a7ef09a6",
   "metadata": {},
   "source": [
    "## Notes on Recursion\n",
    "\n",
    "A [recursive function](https://www.w3schools.com/python/gloss_python_function_recursion.asp) is one which calls itself.\n",
    "\n",
    "1. When the function is called, your CPU runs through each line of code until the function needs to be called again.\n",
    "2. At that point, all variables are saved in memory, and the function runs through each line of code again until the function is called (again, but with a different passed argument), and so on.\n",
    "3. Eventually, this process will stop at the \"bottom of the **stack**\", where the function doesn't get a chance to call itself again (likely because of some condition un/met by the latest passed argument).\n",
    "4. Then, your CPU will work its way back up the stack to the final result. For example, take a look at [this visual example](https://realpython.com/python-recursion/#calculate-factorial) of calculating 4!.\n",
    "\n",
    "When you write these functions, keep two things in mind:\n",
    "\n",
    "- You will need a built-in stopping point (i.e., the \"bottom\"), where your function returns some result before it calls itself.\n",
    "- **Don't think too hard about this.** Recursion can be perplexing to conceptualize when writing the code. So, when you call the function inside the function, think about it as a magical \"hidden\" function that has already done what you want it to do.\n",
    "- [Python Tutor](https://pythontutor.com/) ([editor](https://pythontutor.com/visualize.html#mode=edit)) can be a helpful resource for this exercise!\n",
    "\n",
    "## Exercise 1\n",
    "\n",
    "The Fibonacci Series starts with 0 and 1. Each of the following numbers are the sum of the previous two numbers in the series:\n",
    "\n",
    "`0 1 1 2 3 5 8 13 21 34 ...`\n",
    "\n",
    "So, `fib(9) = 34`.\n",
    "\n",
    "Write a recursive function (`fib`) that, given `n`, will return the `n`th number of the Fibonacci Series.\n",
    "\n",
    "*Test your function using Google or any other tool that can calculate the Fibonacci Series.*"
   ]
  },
  {
   "cell_type": "code",
   "execution_count": 11,
   "id": "10b9210f",
   "metadata": {},
   "outputs": [
    {
     "name": "stdout",
     "output_type": "stream",
     "text": [
      "34\n"
     ]
    }
   ],
   "source": [
    "def fib(n):\n",
    "    \"Return the nth Fibonacci number.\"\n",
    "    if n <= 0:\n",
    "        return \"Input should be a positive integer.\"\n",
    "    elif n == 1:\n",
    "        return 0\n",
    "    elif n == 2:\n",
    "        return 1\n",
    "    else:\n",
    "        a, b = 1, 1 # Fixed the start of the index to provide correct fibonacci sequence\n",
    "        for _ in range(2, n):\n",
    "            a, b = b, a + b\n",
    "        return b\n",
    "# A simple function to compute the nth Fibonacci number\n",
    "\n",
    "print(fib(9)) # Expected output: 34\n"
   ]
  },
  {
   "cell_type": "markdown",
   "id": "4bef64e9",
   "metadata": {},
   "source": [
    "\n",
    "## Exercise 2\n",
    "\n",
    "Write a (single) recursive function, `to_binary()`, that [converts](https://en.wikipedia.org/wiki/Binary_number#Conversion_to_and_from_other_numeral_systems) an integer into its [binary](https://en.wikipedia.org/wiki/Binary_number) representation. So, for example:\n",
    "\n",
    "```python\n",
    "to_binary(2)   -->  10\n",
    "to_binary(12)  -->  1100\n",
    "```\n",
    "\n",
    "*Note: you can test your function with the built in `bin()` function.*"
   ]
  },
  {
   "cell_type": "code",
   "execution_count": 13,
   "id": "eb033460",
   "metadata": {},
   "outputs": [
    {
     "name": "stdout",
     "output_type": "stream",
     "text": [
      "10\n",
      "1100\n",
      "10000\n"
     ]
    }
   ],
   "source": [
    "# A function to convert a positive integer to its binary representation\n",
    "def to_binary(n):\n",
    "    \"Convert an integer to its binary representation as a string.\"\n",
    "    if n < 0:\n",
    "        return \"Input should be a non-negative integer.\"\n",
    "    elif n == 0:\n",
    "        return \"0\"\n",
    "    bits = []\n",
    "    # Convert to binary\n",
    "    while n:\n",
    "        bits.append(str(n % 2))\n",
    "        n //= 2\n",
    "    return ''.join(reversed(bits))\n",
    "\n",
    "print(to_binary(2))  # Example usage\n",
    "print(to_binary(12))  # Example usage\n",
    "print(to_binary(16))  # Example usage"
   ]
  },
  {
   "cell_type": "markdown",
   "id": "dd991538",
   "metadata": {},
   "source": [
    "## Exercise 3 \n",
    "\n",
    "Use the raw Bellevue Almshouse Dataset (`df_bellevue`) extracted at the top of the lab (i.e., with `pd.read_csv ...`).\n",
    "\n",
    "**Write a function for each of the following tasks. Name these functions `task_i()`** (i.e., without any input arguments).\n",
    "\n",
    "1. Return a list of all column names, *sorted* such that the first column has the *least* missing values, and the last column has the *most* missing values (use the raw column names).\n",
    "   - *Note: there is an issue with the `gender` column you'll need to remedy first ...*\n",
    "2. Return a **data frame** with two columns:\n",
    "   - the year (for each year in the data), `year`\n",
    "   - the total number of entries (immigrant admissions) for each year, `total_admissions`\n",
    "3. Return a **series** with:\n",
    "   - Index: gender (for each gender in the data)\n",
    "   - Values: the average age for the indexed gender.\n",
    "4. Return a list of the 5 most common professions *in order of prevalence* (so, the most common is first).\n",
    "\n",
    "For each of these, if there are messy data issues, use the `print` statement to explain.\n"
   ]
  },
  {
   "cell_type": "code",
   "execution_count": null,
   "id": "5993ce51",
   "metadata": {},
   "outputs": [
    {
     "ename": "SyntaxError",
     "evalue": "invalid syntax. Maybe you meant '==' or ':=' instead of '='? (1926354819.py, line 19)",
     "output_type": "error",
     "traceback": [
      "  \u001b[36mCell\u001b[39m\u001b[36m \u001b[39m\u001b[32mIn[59]\u001b[39m\u001b[32m, line 19\u001b[39m\n\u001b[31m    \u001b[39m\u001b[31mastype=str\u001b[39m\n    ^\n\u001b[31mSyntaxError\u001b[39m\u001b[31m:\u001b[39m invalid syntax. Maybe you meant '==' or ':=' instead of '='?\n"
     ]
    }
   ],
   "source": [
    "import pandas as pd\n",
    "\n",
    "url = 'https://github.com/melaniewalsh/Intro-Cultural-Analytics/raw/master/book/data/bellevue_almshouse_modified.csv'\n",
    "\n",
    "df_bellevue = pd.read_csv(url)\n",
    "Raw_columns = df_bellevue.columns.tolist() #store the raw column names\n",
    "\n",
    "# list all values in the gender column\n",
    "print (df_bellevue.gender.unique())\n",
    "\n",
    "def task_1(): \n",
    "    #Return a list of all column names, *sorted* such that the first column has the *least* missing values, and the last column has the *most* missing values (use the raw column names)\n",
    "    # *Note: there is an issue with the `gender` column you'll need to remedy first ...*\n",
    "\n",
    "\n",
    "#clean the g and h rows from the gender column\n",
    "    df_bellevue['gender'] = (\n",
    "        df_bellevue['gender']\n",
    "        astype('string')\n",
    "        .str.lower()\n",
    "        .str.strip()\n",
    "        .replace\n",
    "        ({'h': pd.NA, 'g': pd.NA, 'm': 'm', 'f': 'f', '?': pd.NA})\n",
    "    )\n",
    "    missing_counts = df_bellevue[Raw_columns].isnull().sum() #use the raw column names to count missing values\n",
    "    sorted_columns = missing_counts.sort_values().index.tolist()\n",
    "\n",
    "    return sorted_columns\n",
    "print (task_1())\n",
    "\n",
    "# list all values in the gender column\n",
    "print (df_bellevue.gender.unique())\n",
    "\n",
    "\n",
    "print (\"exercise 2 starting\")\n",
    "def task_2(): \n",
    "    #Return a **data frame** with two columns:\n",
    "   #- the year (for each year in the data), `year`\n",
    "   #- the total number of entries (immigrant admissions) for each year, `total_admissions`\n",
    "    df_bellevue['year'] = pd.to_datetime(df_bellevue['date_in']).dt.year\n",
    "    admissions_per_year = df_bellevue.groupby('year').size().reset_index(name='total_admissions')\n",
    "    \n",
    "    return admissions_per_year\n",
    "print (task_2())\n",
    "\n",
    "\n",
    "\n",
    "print (\"exercise 3 starting\")\n",
    "def task_3(): \n",
    "    #Return a **series** with:\n",
    "    # - Index: gender (for each gender in the data)\n",
    "    # - Values: the average age for the indexed gender.\n",
    "    \n",
    "    pandas_series = df_bellevue.groupby('gender')['age'].mean()\n",
    "    return pandas_series\n",
    "print (task_3())\n",
    "\n",
    "\n",
    "print (\"exercise 4 starting\")\n",
    "def task_4(): \n",
    "    #Return a list of the 5 most common professions *in order of prevalence* (so, the most common is first).\n",
    "    top_5_profession = df_bellevue['profession'].value_counts().head(5).index.tolist()\n",
    "    return top_5_profession\n",
    "print (task_4())\n",
    "\n",
    "\n"
   ]
  }
 ],
 "metadata": {
  "kernelspec": {
   "display_name": "base",
   "language": "python",
   "name": "python3"
  },
  "language_info": {
   "codemirror_mode": {
    "name": "ipython",
    "version": 3
   },
   "file_extension": ".py",
   "mimetype": "text/x-python",
   "name": "python",
   "nbconvert_exporter": "python",
   "pygments_lexer": "ipython3",
   "version": "3.11.11"
  }
 },
 "nbformat": 4,
 "nbformat_minor": 5
}
