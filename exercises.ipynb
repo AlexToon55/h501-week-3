{
 "cells": [
  {
   "cell_type": "markdown",
   "id": "0dead82f",
   "metadata": {},
   "source": [
    "<font color='darkred'> Unless otherwise noted, **this notebook will not be reviewed or autograded.**</font> You are welcome to use it for scratchwork, but **only the files listed in the exercises will be checked.**\n",
    "\n",
    "---\n",
    "\n",
    "# Exercises\n",
    "\n",
    "For these exercises, add your functions to the *apputil\\.py* file. If you like, you're welcome to adjust the *app\\.py* file, but it is not required."
   ]
  },
  {
   "cell_type": "markdown",
   "id": "a7ef09a6",
   "metadata": {},
   "source": [
    "## instructions\n",
    "\n",
    "A [recursive function](https://www.w3schools.com/python/gloss_python_function_recursion.asp) is one which calls itself.\n",
    "\n",
    "1. When the function is called, your CPU runs through each line of code until the function needs to be called again.\n",
    "2. At that point, all variables are saved in memory, and the function runs through each line of code again until the function is called (again, but with a different passed argument), and so on.\n",
    "3. Eventually, this process will stop at the \"bottom of the **stack**\", where the function doesn't get a chance to call itself again (likely because of some condition un/met by the latest passed argument).\n",
    "4. Then, your CPU will work its way back up the stack to the final result. For example, take a look at [this visual example](https://realpython.com/python-recursion/#calculate-factorial) of calculating 4!.\n",
    "\n",
    "When you write these functions, keep two things in mind:\n",
    "\n",
    "- You will need a built-in stopping point (i.e., the \"bottom\"), where your function returns some result before it calls itself.\n",
    "- **Don't think too hard about this.** Recursion can be perplexing to conceptualize when writing the code. So, when you call the function inside the function, think about it as a magical \"hidden\" function that has already done what you want it to do.\n",
    "- [Python Tutor](https://pythontutor.com/) ([editor](https://pythontutor.com/visualize.html#mode=edit)) can be a helpful resource for this exercise!\n",
    "\n",
    "## Exercise 1\n",
    "\n",
    "We write \"`n` factorial\" as `n!`. It is the product of all the numbers up to, and including `n`:\n",
    "\n",
    "`8! = 1 x 2 x 3 x 4 x 5 x 6 x 7 x 8 = 40320`\n",
    "\n",
    "Use recursion to write a function `factorial(n)` that calculates the factorial of a given integer.\n",
    "\n",
    "*Test your function using Google or any other tool that can calculate factorials.*"
   ]
  },
  {
   "cell_type": "code",
   "execution_count": null,
   "id": "1f3ee6aa",
   "metadata": {
    "vscode": {
     "languageId": "plaintext"
    }
   },
   "outputs": [],
   "source": []
  },
  {
   "cell_type": "markdown",
   "id": "69bdd6bb",
   "metadata": {},
   "source": [
    "## Exercise 2\n",
    "\n",
    "The Fibonacci Series (`fib`) starts with 0 and 1. Each of the following numbers are the sum of the previous two numbers in the series:\n",
    "\n",
    "`0 1 1 2 3 5 8 13 21 34 ...`\n",
    "\n",
    "So, `fib(9) = 34`.\n",
    "\n",
    "Write a recursive function that, given `n`, will return the `n`th number of the Fibonacci Series.\n",
    "\n",
    "*Again, test your function using Google or any other tool that can calculate the Fibonacci Series.*"
   ]
  },
  {
   "cell_type": "code",
   "execution_count": null,
   "id": "3183a442",
   "metadata": {
    "vscode": {
     "languageId": "plaintext"
    }
   },
   "outputs": [],
   "source": []
  },
  {
   "cell_type": "markdown",
   "id": "10b65970",
   "metadata": {},
   "source": [
    "## supplemental information\n",
    "\n",
    "- Check out [pythonfibonacci](https://www.pythonfibonacci.com/) for more solutions!\n",
    "- If the sequence starts with $\\{2,\\ 1\\}$, it is then the [Lucas Sequence](https://en.wikipedia.org/wiki/Lucas_number)\n",
    "- This sequence is credited to Leonardo Bonacci (filius Bonacci, 'son of Bonacci'), but can be traced back to early Indian mathematicians (circa 400BC)"
   ]
  }
 ],
 "metadata": {
  "language_info": {
   "name": "python"
  }
 },
 "nbformat": 4,
 "nbformat_minor": 5
}
